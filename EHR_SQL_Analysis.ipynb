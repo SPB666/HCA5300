{
 "cells": [
  {
   "cell_type": "markdown",
   "id": "b383f4af",
   "metadata": {},
   "source": [
    "# EHR SQL Analysis\n",
    "This notebook guides students through SQL and Python-based analysis of electronic health record (EHR) data."
   ]
  },
  {
   "cell_type": "code",
   "execution_count": null,
   "id": "f6989109",
   "metadata": {},
   "outputs": [],
   "source": [
    "import pandas as pd\n",
    "import sqlite3"
   ]
  },
  {
   "cell_type": "markdown",
   "id": "84ab900b",
   "metadata": {},
   "source": [
    "## Load EHR CSV Files"
   ]
  },
  {
   "cell_type": "code",
   "execution_count": null,
   "id": "af4538f8",
   "metadata": {},
   "outputs": [],
   "source": [
    "patients = pd.read_csv('data/patients.csv')\n",
    "encounters = pd.read_csv('data/encounters.csv')\n",
    "allergies = pd.read_csv('data/allergies.csv')\n",
    "providers = pd.read_csv('data/providers.csv')\n",
    "patients.head()"
   ]
  },
  {
   "cell_type": "markdown",
   "id": "c2b3882b",
   "metadata": {},
   "source": [
    "## Set Up SQLite Database"
   ]
  },
  {
   "cell_type": "code",
   "execution_count": null,
   "id": "628609a1",
   "metadata": {},
   "outputs": [],
   "source": [
    "conn = sqlite3.connect(':memory:')\n",
    "cursor = conn.cursor()"
   ]
  },
  {
   "cell_type": "markdown",
   "id": "933f352c",
   "metadata": {},
   "source": [
    "## Student Task: Create SQL Tables\n",
    "Write the SQL to create the tables below."
   ]
  },
  {
   "cell_type": "code",
   "execution_count": null,
   "id": "297dc3ee",
   "metadata": {},
   "outputs": [],
   "source": [
    "# Example:\n",
    "cursor.execute('''\n",
    "CREATE TABLE patients (\n",
    "    Id TEXT PRIMARY KEY,\n",
    "    BIRTHDATE TEXT,\n",
    "    SSN TEXT,\n",
    "    FIRST TEXT,\n",
    "    LAST TEXT\n",
    ");\n",
    "''')"
   ]
  },
  {
   "cell_type": "markdown",
   "id": "6d1a8dcf",
   "metadata": {},
   "source": [
    "## Insert Data into SQL Tables"
   ]
  },
  {
   "cell_type": "code",
   "execution_count": null,
   "id": "cfb9ddd0",
   "metadata": {},
   "outputs": [],
   "source": [
    "# You can use pandas to_sql after tables are created\n",
    "# patients.to_sql('patients', conn, if_exists='append', index=False)"
   ]
  },
  {
   "cell_type": "markdown",
   "id": "27d9a14a",
   "metadata": {},
   "source": [
    "## Query Your Data with SQL"
   ]
  },
  {
   "cell_type": "code",
   "execution_count": null,
   "id": "6afe9b1b",
   "metadata": {},
   "outputs": [],
   "source": [
    "cursor.execute('SELECT * FROM patients LIMIT 5')\n",
    "cursor.fetchall()"
   ]
  },
  {
   "cell_type": "markdown",
   "id": "b411686e",
   "metadata": {},
   "source": [
    "## Create a Denormalized Table for Analysis"
   ]
  },
  {
   "cell_type": "code",
   "execution_count": null,
   "id": "839e8c38",
   "metadata": {},
   "outputs": [],
   "source": [
    "# Example: CREATE TABLE analysis AS SELECT ..."
   ]
  },
  {
   "cell_type": "markdown",
   "id": "fc4de57b",
   "metadata": {},
   "source": [
    "## Analyze in Python"
   ]
  },
  {
   "cell_type": "code",
   "execution_count": null,
   "id": "f5183e22",
   "metadata": {},
   "outputs": [],
   "source": [
    "# Example: Load analytical table into pandas\n",
    "# df = pd.read_sql_query('SELECT * FROM analysis', conn)\n",
    "# df.describe()"
   ]
  },
  {
   "cell_type": "markdown",
   "id": "9cc1c67e",
   "metadata": {},
   "source": [
    "## Export Final Table for Tableau"
   ]
  },
  {
   "cell_type": "code",
   "execution_count": null,
   "id": "22cc849b",
   "metadata": {},
   "outputs": [],
   "source": [
    "# df.to_csv('analysis_export.csv', index=False)"
   ]
  }
 ],
 "metadata": {},
 "nbformat": 4,
 "nbformat_minor": 5
}
