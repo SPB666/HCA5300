import nbformat as nbf

# Create a new notebook
nb = nbf.v4.new_notebook()

# Add the scaffolded steps, code cells, and test cells
cells = []

# Title and intro
cells.append(nbf.v4.new_markdown_cell("# 🐍 Patient Visit Analytics with pandas\n\nThis notebook guides you through using pandas to find each patient’s most recent visit, using database concepts like **grain**, **observation**, and **variables**."))

# Step 1
cells.append(nbf.v4.new_markdown_cell("## Step 1: Load and parse the data\nCreate the DataFrame and convert `visit_date` to datetime."))
cells.append(nbf.v4.new_code_cell("""import pandas as pd

data = {
    'visit_id': [1, 2, 3],
    'patient_id': [101, 101, 102],
    'visit_date': ['2024-10-02', '2025-01-15', '2025-01-20'],
    'provider_name': ['Dr. Lin', 'Dr. Lin', 'Dr. Malik'],
    'blood_pressure': ['120/80', '130/85', '118/76'],
    'diagnosis_code': ['I10', 'E11.9', 'I10']
}

# Your code here
df = pd.DataFrame(data)
df['visit_date'] = pd.to_datetime(df['visit_date'])"""))

# Step 2
cells.append(nbf.v4.new_markdown_cell("## Step 2: Find the most recent visit per patient using `groupby` + `idxmax`"))
cells.append(nbf.v4.new_code_cell("""# Your code here
latest_idx = df.groupby('patient_id')['visit_date'].idxmax()"""))

# Step 3
cells.append(nbf.v4.new_markdown_cell("## Step 3: Use the index values to extract full rows"))
cells.append(nbf.v4.new_code_cell("""# Your code here
latest_visits = df.loc[latest_idx]"""))

# Step 4
cells.append(nbf.v4.new_markdown_cell("## Step 4: Select only the relevant columns"))
cells.append(nbf.v4.new_code_cell("""# Your code here
latest_visits = latest_visits[['patient_id', 'visit_date', 'provider_name', 'blood_pressure']]
latest_visits"""))

# Conceptual Q
cells.append(nbf.v4.new_markdown_cell("## 🧠 Concept Check\nWhat is the **grain** of this DataFrame? (Answer in a markdown cell below.)"))

# Self-check tests
cells.append(nbf.v4.new_markdown_cell("## ✅ Self-Check: Run These Tests"))
cells.append(nbf.v4.new_code_cell("""# Test 1: Check shape
assert latest_visits.shape == (2, 4), "❌ The result should have 2 rows and 4 columns."

# Test 2: Check columns
expected_columns = ['patient_id', 'visit_date', 'provider_name', 'blood_pressure']
assert list(latest_visits.columns) == expected_columns, "❌ Column names or order are incorrect."

# Test 3: Check patient 101 visit date
p101_row = latest_visits[latest_visits['patient_id'] == 101]
assert not p101_row.empty, "❌ Missing patient 101 in the result."
assert p101_row.iloc[0]['visit_date'] == pd.Timestamp('2025-01-15'), "❌ Wrong date for patient 101."

# Test 4: Check patient 102 blood pressure
p102_row = latest_visits[latest_visits['patient_id'] == 102]
assert p102_row.iloc[0]['blood_pressure'] == '118/76', "❌ Incorrect blood pressure for patient 102."

print("🎉 All tests passed! Your DataFrame looks good.")"""))

# Save the notebook
notebook_path = "/mnt/data/Patient_Visit_Analytics.ipynb"
with open(notebook_path, "w") as f:
    nbf.write(nb, f)

notebook_path
