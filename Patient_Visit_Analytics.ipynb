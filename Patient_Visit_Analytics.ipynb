{
 "cells": [
  {
   "cell_type": "markdown",
   "id": "10086743",
   "metadata": {},
   "source": [
    "# 🐍 Patient Visit Analytics with pandas\n",
    "\n",
    "This notebook guides you through using pandas to find each patient’s most recent visit, using database concepts like **grain**, **observation**, and **variables**."
   ]
  },
  {
   "cell_type": "markdown",
   "id": "5edc3a59",
   "metadata": {},
   "source": [
    "## Step 1: Load and parse the data\n",
    "Create the DataFrame and convert `visit_date` to datetime."
   ]
  },
  {
   "cell_type": "code",
   "execution_count": null,
   "id": "a0acfb78",
   "metadata": {},
   "outputs": [],
   "source": [
    "import pandas as pd\n",
    "\n",
    "data = {\n",
    "    'visit_id': [1, 2, 3],\n",
    "    'patient_id': [101, 101, 102],\n",
    "    'visit_date': ['2024-10-02', '2025-01-15', '2025-01-20'],\n",
    "    'provider_name': ['Dr. Lin', 'Dr. Lin', 'Dr. Malik'],\n",
    "    'blood_pressure': ['120/80', '130/85', '118/76'],\n",
    "    'diagnosis_code': ['I10', 'E11.9', 'I10']\n",
    "}\n",
    "\n",
    "# Your code here\n",
    "df = pd.DataFrame(data)\n",
    "df['visit_date'] = pd.to_datetime(df['visit_date'])"
   ]
  },
  {
   "cell_type": "markdown",
   "id": "57d64a0c",
   "metadata": {},
   "source": [
    "## Step 2: Find the most recent visit per patient using `groupby` + `idxmax`"
   ]
  },
  {
   "cell_type": "code",
   "execution_count": null,
   "id": "9225302a",
   "metadata": {},
   "outputs": [],
   "source": [
    "# Your code here\n",
    "latest_idx = df.groupby('patient_id')['visit_date'].idxmax()"
   ]
  },
  {
   "cell_type": "markdown",
   "id": "0d42453a",
   "metadata": {},
   "source": [
    "## Step 3: Use the index values to extract full rows"
   ]
  },
  {
   "cell_type": "code",
   "execution_count": null,
   "id": "9083daf0",
   "metadata": {},
   "outputs": [],
   "source": [
    "# Your code here\n",
    "latest_visits = df.loc[latest_idx]"
   ]
  },
  {
   "cell_type": "markdown",
   "id": "cff4fe53",
   "metadata": {},
   "source": [
    "## Step 4: Select only the relevant columns"
   ]
  },
  {
   "cell_type": "code",
   "execution_count": null,
   "id": "dd42d276",
   "metadata": {},
   "outputs": [],
   "source": [
    "# Your code here\n",
    "latest_visits = latest_visits[['patient_id', 'visit_date', 'provider_name', 'blood_pressure']]\n",
    "latest_visits"
   ]
  },
  {
   "cell_type": "markdown",
   "id": "58d8e396",
   "metadata": {},
   "source": [
    "## 🧠 Concept Check\n",
    "What is the **grain** of this DataFrame? (Answer in a markdown cell below.)"
   ]
  },
  {
   "cell_type": "markdown",
   "id": "43e1ec21",
   "metadata": {},
   "source": [
    "## ✅ Self-Check: Run These Tests"
   ]
  },
  {
   "cell_type": "code",
   "execution_count": null,
   "id": "edac3b90",
   "metadata": {},
   "outputs": [],
   "source": [
    "# Test 1: Check shape\n",
    "assert latest_visits.shape == (2, 4), \"❌ The result should have 2 rows and 4 columns.\"\n",
    "\n",
    "# Test 2: Check columns\n",
    "expected_columns = ['patient_id', 'visit_date', 'provider_name', 'blood_pressure']\n",
    "assert list(latest_visits.columns) == expected_columns, \"❌ Column names or order are incorrect.\"\n",
    "\n",
    "# Test 3: Check patient 101 visit date\n",
    "p101_row = latest_visits[latest_visits['patient_id'] == 101]\n",
    "assert not p101_row.empty, \"❌ Missing patient 101 in the result.\"\n",
    "assert p101_row.iloc[0]['visit_date'] == pd.Timestamp('2025-01-15'), \"❌ Wrong date for patient 101.\"\n",
    "\n",
    "# Test 4: Check patient 102 blood pressure\n",
    "p102_row = latest_visits[latest_visits['patient_id'] == 102]\n",
    "assert p102_row.iloc[0]['blood_pressure'] == '118/76', \"❌ Incorrect blood pressure for patient 102.\"\n",
    "\n",
    "print(\"🎉 All tests passed! Your DataFrame looks good.\")"
   ]
  }
 ],
 "metadata": {},
 "nbformat": 4,
 "nbformat_minor": 5
}
